{
  "nbformat": 4,
  "nbformat_minor": 0,
  "metadata": {
    "colab": {
      "name": "Assignment3.ipynb",
      "provenance": [],
      "collapsed_sections": [],
      "include_colab_link": true
    },
    "kernelspec": {
      "name": "python3",
      "display_name": "Python 3"
    },
    "language_info": {
      "name": "python"
    }
  },
  "cells": [
    {
      "cell_type": "markdown",
      "metadata": {
        "id": "view-in-github",
        "colab_type": "text"
      },
      "source": [
        "<a href=\"https://colab.research.google.com/github/SergeiSa/Control-Theory-Slides-Spring-2022/blob/main/Assignment/Assignment3.ipynb\" target=\"_parent\"><img src=\"https://colab.research.google.com/assets/colab-badge.svg\" alt=\"Open In Colab\"/></a>"
      ]
    },
    {
      "cell_type": "markdown",
      "metadata": {
        "id": "_kVWFukOo2xf"
      },
      "source": [
        "#**Stabilization of Cart Pole system**: \n",
        "> Consider cart pole system:\n",
        ">\n",
        ">\n",
        "><p><img alt=\"mbk\" height=\"250px\" src=\"https://drive.google.com/uc?id=1O1iM6MByfMyrO0txAMFb_miOqPNzFAvm\" align=\"center\" hspace=\"350px\" vspace=\"0px\"></p>\n",
        ">\n",
        ">\n",
        "> Do the following:\n",
        ">*   1) Design the linear feedback controller using linearization of the cart-pole dynamics.\n",
        ">*   2) Simulate the response of your controller on the linearized and nonlinear system, compare the results.\n",
        ">*   3) Taking into account that $y = Cx$ is measured, design observer and linear control that uses observer state. \n",
        ">*   4) Simulate the nonlinear system with the observer and controller, show the difference between the actual motion of the nonlinear system and its estimate produced by teh observer.\n",
        ">\n",
        "> [Here is the great illustration of the hardware implemintation of the cart-pole](https://www.youtube.com/shorts/NJxBJ2LJY7w) \n"
      ]
    },
    {
      "cell_type": "markdown",
      "metadata": {
        "id": "WrEHbu0anIiU"
      },
      "source": [
        "##**System Dynamics**: \n",
        "\n",
        "Recall the dynamics of cart-pole system:\n",
        "\\begin{equation}\n",
        "\\begin{cases} \n",
        "\\left(M+m\\right){\\ddot {p}}-m L \\ddot{\\theta} \\cos \\theta +m L \\dot{\\theta }^{2}\\sin \\theta = u \\\\\n",
        "L \\ddot{\\theta}- g\\sin \\theta =\\ddot{p} \\cos \\theta  \\\\\n",
        "\\end{cases}\n",
        "\\end{equation}\n",
        "\n",
        "where $\\theta$ is angle of the pendulum measured from the upper equilibrium and $p$ is position of cart\n",
        "\n",
        "\n",
        "Choosing the state to be $\\mathbf{x} = [\\theta, \\dot{\\theta}, p, \\dot{p}]^T$One may rewrite this dynamics in the state-space form as:\n",
        "\\begin{equation}\n",
        "\\mathbf{\\dot{x}} = \n",
        "\\begin{bmatrix}\n",
        "\\dot{\\theta} \\\\ \n",
        "\\ddot{\\theta} \\\\ \n",
        "\\dot{p} \\\\ \n",
        "\\ddot{p}\n",
        "\\end{bmatrix} \n",
        "= \n",
        "\\begin{bmatrix}\n",
        "\\dot{\\theta} \\\\ \n",
        "\\frac{(M+m)g \\sin \\theta - mL \\dot{\\theta}^2 \\sin\\theta \\cos\\theta}{(M + m\\sin^2 \\theta)L} \\\\ \n",
        "\\dot{x} \\\\ \n",
        "\\frac{mg\\sin\\theta \\cos\\theta - mL\\dot{\\theta}^2 \\sin \\theta}{M + m\\sin^2 \\theta} \\\\ \n",
        "\\end{bmatrix} \n",
        "+\n",
        "\\begin{bmatrix}\n",
        "0 \\\\ \n",
        "\\frac{\\cos\\theta}{(M + m\\sin^2 \\theta)L} \\\\ \n",
        "0 \\\\ \n",
        "\\frac{1}{M + m\\sin^2 \\theta} \\\\ \n",
        "\\end{bmatrix} u\n",
        "\\end{equation}\n"
      ]
    },
    {
      "cell_type": "markdown",
      "metadata": {
        "id": "VAnL3N08Ur7h"
      },
      "source": [
        "###**System parameters**: \n",
        "Let us choose the following parameters:"
      ]
    },
    {
      "cell_type": "code",
      "metadata": {
        "id": "M2NL56xAUrM3"
      },
      "source": [
        "m = 0.5 # mass of pendulum bob\n",
        "M = 2 # mass of cart\n",
        "pendulumn_length = 0.3 # length of pendulum\n",
        "g = 9.81 # gravitational acceleration \n"
      ],
      "execution_count": 7,
      "outputs": []
    },
    {
      "cell_type": "markdown",
      "metadata": {
        "id": "7EaVQAp7MlhL"
      },
      "source": [
        "####**Nonlinear dynamics**: \n",
        "\n",
        "First of all let us define the nonlinear system in form $\\dot{\\mathbf{x}} = \\mathbf{f}(\\mathbf{x}, \\mathbf{u})$ :"
      ]
    },
    {
      "cell_type": "code",
      "metadata": {
        "id": "lMSbMWXnWwRC",
        "colab": {
          "base_uri": "https://localhost:8080/"
        },
        "outputId": "164cba9d-6d27-4119-cfe0-61a469ae66fe"
      },
      "source": [
        "import numpy as np\n",
        "from math import cos, sin\n",
        "\n",
        "import matplotlib.pyplot as plt\n",
        "\n",
        "# sin, cos = np.sin, np.cos\n",
        "# Nnonlinear cart-pole dynamics\n",
        "def f(x, u):\n",
        "    theta, dtheta, p, dp = x\n",
        "    u = u[0]\n",
        "\n",
        "    denominator = M + m*(sin(theta)**2)\n",
        "    ddtheta = ((M + m)*g*sin(theta) - m* pendulumn_length * dtheta**2 *sin(theta) * cos(theta) + cos(theta)*u)/(denominator * pendulumn_length)\n",
        "    ddp = (m*g*sin(theta)*cos(theta) - m* pendulumn_length * dtheta**2 *sin(theta) + u)/denominator\n",
        "\n",
        "    dx = np.array([dtheta, ddtheta, dp, ddp])\n",
        "    return dx\n",
        "\n",
        "x0 = np.array([1, # Initial pendulum angle\n",
        "      0, # Initial pendulum angular speed\n",
        "      1, # Initial cart position\n",
        "      0]) # Initial cart speed\n",
        "u0 = np.array([0])\n",
        "print(f(x0, u0))"
      ],
      "execution_count": 8,
      "outputs": [
        {
          "output_type": "stream",
          "name": "stdout",
          "text": [
            "[ 0.         29.22225161  0.          0.947331  ]\n"
          ]
        }
      ]
    },
    {
      "cell_type": "code",
      "source": [
        ""
      ],
      "metadata": {
        "id": "7N8K9HjdKr0X"
      },
      "execution_count": 8,
      "outputs": []
    },
    {
      "cell_type": "markdown",
      "metadata": {
        "id": "D_Cvl8EyTVMG"
      },
      "source": [
        "###**Linearized Dynamics**: \n",
        "\n",
        "Liniarization around the upper equilibrium $\\mathbf{x} = [0,0,0,0]$ yields:\n",
        "\n",
        "\\begin{equation}\n",
        "\\mathbf{\\dot{x}} = \n",
        "\\begin{bmatrix}\n",
        "\\dot{\\theta} \\\\ \n",
        "\\ddot{\\theta} \\\\ \n",
        "\\dot{p} \\\\ \n",
        "\\ddot{p}\n",
        "\\end{bmatrix} \n",
        "=\n",
        "\\begin{bmatrix}\n",
        "0 & 1 & 0 & 0\\\\\n",
        "\\frac{(M+m)}{M}\\frac{g}{L} & 0 & 0 & 0 \\\\\n",
        "0 & 0 & 0 & 1 \\\\\n",
        "\\frac{m}{M}g & 0 & 0 & 0 \n",
        "\\end{bmatrix} \n",
        "\\begin{bmatrix}\n",
        "\\theta \\\\ \n",
        "\\dot{\\theta} \\\\ \n",
        "p \\\\ \n",
        "\\dot{p}\n",
        "\\end{bmatrix} \n",
        "+\n",
        "\\begin{bmatrix}\n",
        "0 \\\\\n",
        "\\frac{1}{ML} \\\\\n",
        "0 \\\\\n",
        "\\frac{1}{M}\n",
        "\\end{bmatrix}\n",
        "u\n",
        "\\end{equation}"
      ]
    },
    {
      "cell_type": "code",
      "metadata": {
        "id": "i3y-TnTmTUf4"
      },
      "source": [
        "# System matrix\n",
        "A = np.array([[0, 1, 0, 0],\n",
        "             [(M + m)*g /(M*pendulumn_length), 0, 0, 0],\n",
        "             [0,0,0,1],\n",
        "             [m*g/M, 0, 0, 0]])\n",
        "# Input matrix\n",
        "B = np.array([[0],\n",
        "             [1/(M*pendulumn_length)],\n",
        "             [0], \n",
        "             [1/M]])\n",
        "C = np.array([[1, 0, 0, 0], [0, 1, 0, 0], [0, 0, 1, 0]])"
      ],
      "execution_count": 9,
      "outputs": []
    },
    {
      "cell_type": "markdown",
      "metadata": {
        "id": "BwYSjfDTVTCF"
      },
      "source": [
        "###**Controller Design**: \n",
        "\n",
        "Let us design the controller for linearized plant by placing poles (eigen values) on the left-hand side of complex plane:\n"
      ]
    },
    {
      "cell_type": "markdown",
      "source": [
        "Insert your control design / observer design code here.\n",
        "\n",
        "Check eigenvalues of the closed-loop system for 1) closed-loop for the case when full state information is availible and no observer is used, 2) when only measurement y = C*x is availible and an observer is used."
      ],
      "metadata": {
        "id": "FMjO0AyEJ2bb"
      }
    },
    {
      "cell_type": "markdown",
      "metadata": {
        "id": "uJTVJ1pCYdHV"
      },
      "source": [
        "##**Simulation**:\n",
        "We proceed with the simulation of designed controller, firstly we will define the simulation parameters: "
      ]
    },
    {
      "cell_type": "code",
      "metadata": {
        "id": "L473KDm6Y7GK"
      },
      "source": [
        "# Time settings\n",
        "t0 = 0 # Initial time \n",
        "tf = 10 # Final time\n",
        "N = 1000 # Numbers of points in time span\n",
        "t = np.linspace(t0, tf, N) # Create time span\n",
        "\n",
        "# Define initial point \n",
        "theta_0 = 0.4\n",
        "p_0 = 0.1\n",
        "\n",
        "# Set initial state \n",
        "x0 = np.array([theta_0, # Initial pendulum angle\n",
        "      0, # Initial pendulum angular speed\n",
        "      p_0, # Initial cart position\n",
        "      0]) # Initial cart speed"
      ],
      "execution_count": 10,
      "outputs": []
    },
    {
      "cell_type": "markdown",
      "metadata": {
        "id": "zojvh_scXgvZ"
      },
      "source": [
        "\n",
        "####**Linearized dynamics**: \n",
        "Now let us simulate the response of linear controller on the **linearized** system:"
      ]
    },
    {
      "cell_type": "code",
      "metadata": {
        "id": "iGhlbLIxPJBV"
      },
      "source": [
        "# import integrator routine\n",
        "from scipy.integrate import odeint \n",
        "\n",
        "# Define the linear ODE to solve\n",
        "def linear_ode(x, t, A, B, K):\n",
        "    # Linear controller\n",
        "    u = - np.dot(K,x)  \n",
        "    # Linearized dynamics\n",
        "    dx = np.dot(A,x) + np.dot(B,u)\n",
        "    return dx\n",
        "\n",
        "# integrate system \"sys_ode\" from initial state $x0$\n",
        "x_l = odeint(linear_ode, x0, t, args=(A, B, K,)) \n",
        "theta_l, dtheta_l, p_l, dp_l = x_l[:,0], x_l[:,1], x_l[:,2], x_l[:,3] \n",
        "# Plot the resulst\n",
        "plt.plot(t, theta_l, 'b--', linewidth=2.0, label = r'$\\theta$ linear')\n",
        "plt.plot(t, p_l, 'r--', linewidth=2.0, label = r'$p$ linear')\n",
        "plt.grid(color='black', linestyle='--', linewidth=1.0, alpha = 0.7)\n",
        "plt.grid(True)\n",
        "plt.legend()\n",
        "plt.xlim([t0, tf])\n",
        "plt.ylabel(r'Coordinates $p,\\theta$')\n",
        "plt.xlabel(r'Time $t$ (s)')\n",
        "plt.show()"
      ],
      "execution_count": null,
      "outputs": []
    },
    {
      "cell_type": "markdown",
      "metadata": {
        "id": "xf4RANelaCG3"
      },
      "source": [
        "Now we will simulate similarly to linear case while using the same gains $\\mathbf{K}$:"
      ]
    },
    {
      "cell_type": "code",
      "source": [
        "def nonliear_ode(x, t, K):\n",
        "\n",
        "    # Linear controller\n",
        "    u = - np.dot(K,x)  \n",
        "\n",
        "    # Nonlinear dynamics\n",
        "    dx = f(x, u)\n",
        "\n",
        "    return dx\n",
        "\n",
        "# integrate system \"sys_ode\" from initial state $x0$\n",
        "x_nl = odeint(nonliear_ode, x0, t, args=(K,)) \n",
        "theta_nl, dtheta_nl, p_nl, dp_nl = x_nl[:,0], x_nl[:,1], x_nl[:,2], x_nl[:,3] \n",
        "# Plot the resulst\n",
        "plt.plot(t, theta_nl, 'b', linewidth=2.0, label = r'$\\theta$ nonlinear')\n",
        "plt.plot(t, p_nl, 'r', linewidth=2.0, label = r'$p$ nonlinear')\n",
        "plt.grid(color='black', linestyle='--', linewidth=1.0, alpha = 0.7)\n",
        "plt.grid(True)\n",
        "plt.legend()\n",
        "plt.xlim([t0, tf])\n",
        "plt.ylabel(r'Coordinates $p,\\theta$')\n",
        "plt.xlabel(r'Time $t$ (s)')\n",
        "plt.show()"
      ],
      "metadata": {
        "id": "IPF4ezxF75Dj"
      },
      "execution_count": null,
      "outputs": []
    },
    {
      "cell_type": "markdown",
      "source": [
        "### Simulation with observer\n",
        "\n",
        "Insert your code simulating the behaviour of the nonlinear system with an observer. Plot the results, compare state estimatio and actual state of the system."
      ],
      "metadata": {
        "id": "XSU6vW6PKpUd"
      }
    },
    {
      "cell_type": "markdown",
      "metadata": {
        "id": "I8K0gNMmaqrr"
      },
      "source": [
        "\n",
        "###**Comparison**: \n",
        "One may compare the linear and nonlinear responses by plotting them together:"
      ]
    },
    {
      "cell_type": "code",
      "metadata": {
        "id": "HMT9U1H7a2Wz"
      },
      "source": [
        "# theta_l, p_l - values of theta and p for the linear system\n",
        "# theta_nl, p_nl - values of theta and p for the nonlinear system\n",
        "\n",
        "plt.plot(t, theta_l, 'b--', linewidth=2.0, label = r'$\\theta$ linear')\n",
        "plt.plot(t, p_l, 'r--', linewidth=2.0, label = r'$p$ linear')\n",
        "plt.plot(t, theta_nl, 'b', linewidth=2.0, label = r'$\\theta$ nonlinear')\n",
        "plt.plot(t, p_nl, 'r', linewidth=2.0, label = r'$p$ nonlinear')\n",
        "plt.grid(color='black', linestyle='--', linewidth=1.0, alpha = 0.7)\n",
        "plt.grid(True)\n",
        "plt.legend()\n",
        "plt.xlim([t0, tf])\n",
        "plt.ylabel(r'Coordinates $p,\\theta$')\n",
        "plt.xlabel(r'Time $t$ (s)')\n",
        "plt.show()"
      ],
      "execution_count": null,
      "outputs": []
    },
    {
      "cell_type": "markdown",
      "source": [
        "# Animation"
      ],
      "metadata": {
        "id": "zvwB54-6LjIR"
      }
    },
    {
      "cell_type": "code",
      "source": [
        "p = p_nl\n",
        "theta = theta_nl\n",
        "time = t"
      ],
      "metadata": {
        "id": "Pa5FNEfQR2NJ"
      },
      "execution_count": null,
      "outputs": []
    },
    {
      "cell_type": "code",
      "source": [
        "%matplotlib inline\n",
        "\n",
        "# create a figure and axes\n",
        "fig = plt.figure(figsize=(12,5))\n",
        "ax1 = plt.subplot(1,2,1)   \n",
        "ax2 = plt.subplot(1,2,2)\n",
        "\n",
        "# set up the subplots as needed\n",
        "# ax1.set_xlim(( 0, 2))            \n",
        "# ax1.set_ylim((-0.3, 0.3))\n",
        "ax1.set_xlabel('Time')\n",
        "ax1.set_ylabel('Magnitude')\n",
        "\n",
        "ax2.set_xlim((-0.5,0.5))\n",
        "ax2.set_ylim((0,1))\n",
        "ax2.set_xlabel('X')\n",
        "ax2.set_ylabel('Y')\n",
        "ax2.set_title('animation')\n",
        "\n",
        "# create objects that will change in the animation. These are\n",
        "# initially empty, and will be given new values for each frame\n",
        "# in the animation.\n",
        "txt_title = ax1.set_title('plot')\n",
        "line_x,     = ax1.plot(time, p, 'b')     # ax.plot returns a list of 2D line objects\n",
        "line_theta, = ax1.plot(time, theta, 'r')\n",
        "point_x,     = ax1.plot([], [], 'g.', ms=20)\n",
        "point_theta, = ax1.plot([], [], 'g.', ms=20)\n",
        "\n",
        "draw_cart,  = ax2.plot([], [], 'b', lw=2)\n",
        "draw_shaft, = ax2.plot([], [], 'r', lw=2)\n",
        "\n",
        "ax1.legend(['x','theta']);"
      ],
      "metadata": {
        "id": "xCSCmInpRwj7"
      },
      "execution_count": null,
      "outputs": []
    },
    {
      "cell_type": "code",
      "source": [
        "\n",
        "shaft_l = 0.3\n",
        "cart_l = 0.1\n",
        "cart_x = np.array([-1, -1, 1, 1, -1])*cart_l\n",
        "cart_y = np.array([ 0,  1, 1, 0,  0])*cart_l\n",
        "\n",
        "\n",
        "# animation function. This is called sequentially\n",
        "def drawframe(n):\n",
        "\n",
        "    shaft_x = np.array([ p[n],  p[n] + shaft_l*sin(theta[n] )])\n",
        "    shaft_y = np.array([ cart_l/2,  cart_l/2 + shaft_l*cos(theta[n] )])\n",
        "\n",
        "    line_x.set_data(time, p)\n",
        "    line_theta.set_data(time, theta)\n",
        "\n",
        "    point_x.set_data(time[n], p[n])\n",
        "    point_theta.set_data(time[n], theta[n])\n",
        "\n",
        "    draw_cart.set_data(cart_x+p[n], cart_y)\n",
        "    draw_shaft.set_data(shaft_x, shaft_y)\n",
        "    \n",
        "    txt_title.set_text('Frame = {0:4d}'.format(n))\n",
        "    return (draw_cart,draw_shaft)"
      ],
      "metadata": {
        "id": "oE2hVzA0Q_7Y"
      },
      "execution_count": null,
      "outputs": []
    },
    {
      "cell_type": "code",
      "source": [
        "from matplotlib import animation\n",
        "\n",
        "# blit=True re-draws only the parts that have changed.\n",
        "anim = animation.FuncAnimation(fig, drawframe, frames=200, interval=20, blit=True)"
      ],
      "metadata": {
        "id": "mje05MpaRCOz"
      },
      "execution_count": null,
      "outputs": []
    },
    {
      "cell_type": "markdown",
      "source": [
        "## Here we try to make a video of the cart-pole as it moves"
      ],
      "metadata": {
        "id": "8jQfAyiVL9hR"
      }
    },
    {
      "cell_type": "code",
      "source": [
        "from IPython.display import HTML\n",
        "HTML(anim.to_html5_video())"
      ],
      "metadata": {
        "id": "Ml0P9dt0RD22"
      },
      "execution_count": null,
      "outputs": []
    }
  ]
}