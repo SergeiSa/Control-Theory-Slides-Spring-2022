{
  "nbformat": 4,
  "nbformat_minor": 0,
  "metadata": {
    "colab": {
      "name": "Lab1_Control2022.ipynb",
      "provenance": [],
      "include_colab_link": true
    },
    "kernelspec": {
      "display_name": "Python 3",
      "name": "python3"
    }
  },
  "cells": [
    {
      "cell_type": "markdown",
      "metadata": {
        "id": "view-in-github",
        "colab_type": "text"
      },
      "source": [
        "<a href=\"https://colab.research.google.com/github/SergeiSa/Control-Theory-Slides-Spring-2022/blob/main/Assignment/Assignment1.ipynb\" target=\"_parent\"><img src=\"https://colab.research.google.com/assets/colab-badge.svg\" alt=\"Open In Colab\"/></a>"
      ]
    },
    {
      "cell_type": "markdown",
      "metadata": {
        "id": "zVZdDu7VjMqg"
      },
      "source": [
        "# From linear ODE to State Space\n",
        "\n",
        "Given an ODE:\n",
        "\n",
        "$$a_{k}y^{(k)} +a_{k-1}y^{(k-1)}+...+a_{2}\\ddot y+a_{1}\\dot y + a_0 y= b_0$$\n",
        "\n",
        "find its state space representation:\n",
        "\n",
        "$$\\dot x = Ax + b$$\n",
        "\n",
        "## Process\n",
        "\n",
        "The first step is to express higher derivatives\n",
        "\n",
        "Step 1.1:\n",
        "\n",
        "$$y^{(k)} + \n",
        "\\frac{a_{k-1}}{a_{k}}y^{(k-1)}+\n",
        "...+\n",
        "\\frac{a_{2}}{a_{k}}\\ddot y+\n",
        "\\frac{a_{1}}{a_{k}}\\dot y + \n",
        "\\frac{a_{0}}{a_{k}} y = \n",
        "\\frac{b_0}{a_{k}}$$\n",
        "\n",
        "Step 1.2:\n",
        "\n",
        "$$y^{(k)} = \n",
        "-\\frac{a_{k-1}}{a_{k}}y^{(k-1)}-\n",
        "...-\n",
        "\\frac{a_{2}}{a_{k}}\\ddot y -\n",
        "\\frac{a_{1}}{a_{k}}\\dot y - \n",
        "\\frac{a_{0}}{a_{k}} y + \n",
        "\\frac{b_0}{a_{k}}$$\n",
        "\n",
        "Second step s introduction of new variables $x$:\n",
        "\n",
        "Step 2.1:\n",
        "\n",
        "$$x_k = y^{(k-1)} \\\\\n",
        "  x_{k-1} = y^{(k-2)} \\\\\n",
        "  ... \\\\\n",
        "  x_1 = y$$\n",
        "\n",
        "Step 2.2:\n",
        "$$\\dot x_1 = x_2 \\\\\n",
        "\\dot x_2 = x_3 \\\\\n",
        "... \\\\\n",
        "\\dot x_k = \n",
        "-\\frac{a_{k-1}}{a_{k}}x_k-\n",
        "...-\n",
        "\\frac{a_{2}}{a_{k}} x_3 -\n",
        "\\frac{a_{1}}{a_{k}} x_2 - \n",
        "\\frac{a_{0}}{a_{k}} x_1 + \n",
        "\\frac{b_0}{a_{k}}$$\n",
        "\n",
        "Finally, we write it in a matrix form."
      ]
    },
    {
      "cell_type": "markdown",
      "metadata": {
        "id": "sk9IEZJg2cS_"
      },
      "source": [
        "# Tasks 1.1: ODE to State Space conversion\n",
        "\n",
        "Convert to State Space represantation and to a transfer function representation\n",
        "\n",
        "* $10 y^{(4)} -7  y^{(3)} + 2   \\ddot y + 0.5 \\dot y + 4y  = 15 u$\n",
        "* $5  y^{(4)} -17 y^{(3)} - 3   \\ddot y + 1.5 \\dot y + 2y  = 25 u$\n",
        "* $-3 y^{(4)} +22 y^{(3)} + 4   \\ddot y + 1.5 \\dot y + 1y  = 15 u$\n",
        "* $5  y^{(4)} -17 y^{(3)} - 1.5 \\ddot y + 100 \\dot y + 1.1y= 45 u$\n",
        "* $1.5y^{(4)} -23 y^{(3)} - 2.5 \\ddot y + 0.1 \\dot y + 100y= -10 u$\n",
        "\n",
        "# Task 1.2 (higher difficulty)\n",
        "\n",
        "Convert the following to a second order ODE and to a transfer function representation:\n",
        "\n",
        "$$\\dot x = \n",
        "\\begin{pmatrix} 1 & 0 \\\\ -5 & -10\n",
        "\\end{pmatrix}\n",
        "x\n",
        "+ \\begin{pmatrix} 0 \\\\ 1\n",
        "\\end{pmatrix} u\n",
        "$$\n",
        "$$\\dot x = \n",
        "\\begin{pmatrix} 0 & 8 \\\\ 1 & 3\n",
        "\\end{pmatrix}\n",
        "x\n",
        "+ \\begin{pmatrix} 0 \\\\ 1\n",
        "\\end{pmatrix} u\n",
        "$$\n",
        "$$\\dot x = \n",
        "\\begin{pmatrix} 0 & 8 \\\\ 6 & 0\n",
        "\\end{pmatrix}\n",
        "x\n",
        "+ \\begin{pmatrix} 0 \\\\ 1\n",
        "\\end{pmatrix} u\n",
        "$$\n",
        "$$\\dot x = \n",
        "\\begin{pmatrix} 0 & 1 \\\\ 6 & 3\n",
        "\\end{pmatrix}\n",
        "x\n",
        "+ \\begin{pmatrix} 0 \\\\ 1\n",
        "\\end{pmatrix} u\n",
        "$$\n",
        "\n",
        "For all of the above, $$y = \\begin{pmatrix} 1 & 0 \\end{pmatrix} x$$ \n"
      ]
    },
    {
      "cell_type": "markdown",
      "metadata": {
        "id": "68FDuYjmAw_S"
      },
      "source": [
        "# Solve ODE\n",
        "\n",
        "Below is an example of how one can solve and ODE in Python"
      ]
    },
    {
      "cell_type": "code",
      "metadata": {
        "id": "7U4i-VI8jQsm"
      },
      "source": [
        "import numpy as np\n",
        "from scipy.integrate import odeint\n",
        "\n",
        "n = 4\n",
        "A = np.array([[0, 1, 0], [0, 0, 1], [-10, -5, -2]])\n",
        "\n",
        "# x_dot from state space\n",
        "def StateSpace(x, t):\n",
        "    return A.dot(x)# + B*np.sin(t)\n",
        "\n",
        "time = np.linspace(0, 1, 1000)   \n",
        "x0 = np.random.rand(n-1)  # initial state\n",
        "\n",
        "solution = {\"SS\": odeint(StateSpace, x0, time)}\n",
        "\n",
        "import matplotlib.pyplot as plt\n",
        "\n",
        "plt.subplot(121)\n",
        "plt.plot(time, solution[\"SS\"])\n",
        "plt.xlabel('time')\n",
        "plt.ylabel('x(t)')\n",
        "\n",
        "plt.show()"
      ],
      "execution_count": null,
      "outputs": []
    },
    {
      "cell_type": "markdown",
      "metadata": {
        "id": "PYXA8KSmm9do"
      },
      "source": [
        "## Task 1.3 Implement Euler Integration or Runge-Kutta Integration scheme, solve the equation from the Task 1 using it."
      ]
    },
    {
      "cell_type": "markdown",
      "metadata": {
        "id": "ufR3L7_eC6x-"
      },
      "source": [
        "# Task 2.1, convert to state space and simulate\n",
        "\n",
        "* $10 y^{(5)} + 10 y^{(4)} -7  y^{(3)} + 2   \\ddot y + 0.5 \\dot y + 4y  = 0$\n",
        "* $1 y^{(5)} + 5  y^{(4)} -17 y^{(3)} - 3   \\ddot y + 1.5 \\dot y + 2y  = 0$\n",
        "* $6 y^{(5)} -3 y^{(4)}  +22 y^{(3)} + 4   \\ddot y + 1.5 \\dot y + 1y  = 0$\n",
        "* $22 y^{(5)} + 5  y^{(4)} -17 y^{(3)} - 1.5 \\ddot y + 100 \\dot y + 1.1y= 0$\n",
        "* $-10 y^{(5)} + 1.5y^{(4)} -23 y^{(3)} - 2.5 \\ddot y + 0.1 \\dot y + 100y= 0$\n",
        "\n",
        "# Task 2.2, convert to state space and simulate\n",
        "* $10 y^{(5)} + 10 y^{(4)} -7  y^{(3)} + 2   \\ddot y + 0.5 \\dot y + 4y  = \\sin(t)$\n",
        "* $1 y^{(5)} + 5  y^{(4)} -17 y^{(3)} - 3   \\ddot y + 1.5 \\dot y + 2y  = \\sin(t)$\n",
        "* $6 y^{(5)} -3 y^{(4)}  +22 y^{(3)} + 4   \\ddot y + 1.5 \\dot y + 1y  = \\sin(t)$\n",
        "* $22 y^{(5)} + 5  y^{(4)} -17 y^{(3)} - 1.5 \\ddot y + 100 \\dot y + 1.1y= \\sin(t)$\n",
        "* $-10 y^{(5)} + 1.5y^{(4)} -23 y^{(3)} - 2.5 \\ddot y + 0.1 \\dot y + 100y= \\sin(t)$\n",
        "\n",
        "## Subtask 2.3 Mass-spring-damper system\n",
        "\n",
        "Find or derive equations for a mass-spring-damper system with mass 10kg, spring stiffness of 1000 N / m and damping coefficient 1 N s / m, write them in state-space and second order ODE forms, and simulate them."
      ]
    },
    {
      "cell_type": "markdown",
      "metadata": {
        "id": "uMA0Cu1j9PHe"
      },
      "source": [
        "# Task 3.1, Convert to transfer functions\n",
        "\n",
        "* \n",
        "$\n",
        "\\begin{cases}\n",
        "\\ddot x + 0.5 \\dot x + 4y = u \\\\\n",
        "y = 1.5 \\dot x + 6 x\n",
        "\\end{cases}\n",
        "$\n",
        "\n",
        "* \n",
        "$\n",
        "\\begin{cases}\n",
        "10 \\ddot x + 1.5 \\dot x + 8y = 0.5u \\\\\n",
        "y = 15 \\dot x + 16 x\n",
        "\\end{cases}\n",
        "$\n",
        "\n",
        "* \n",
        "$\n",
        "\\begin{cases}\n",
        "\\ddot x + 2 \\dot x - 5y = u \\\\\n",
        "y = 2.5 \\dot x - 7 x\n",
        "\\end{cases}\n",
        "$\n",
        "\n",
        "* \n",
        "$\n",
        "\\begin{cases}\n",
        "\\ddot x + 22 \\dot x + 10y = 10u \\\\\n",
        "y = 10.5 \\dot x + 11 x\n",
        "\\end{cases}\n",
        "$\n"
      ]
    },
    {
      "cell_type": "markdown",
      "metadata": {
        "id": "wnJVPiHXtSDY"
      },
      "source": [
        "# 4. Stability of an autonomous linear system\n",
        "\n",
        "Autonomous linear system is *stable*, iff the eigenvalues of its matrix have negative real parts. In other words, their should lie on the left half of the complex plane.\n",
        "\n",
        "Consider the system:\n",
        "\n",
        "$$\\dot x = \n",
        "\\begin{pmatrix} -1 & 0.4 \\\\ -20 & -16\n",
        "\\end{pmatrix}\n",
        "x\n",
        "$$\n",
        "\n",
        "Let us find its eigenvalues:"
      ]
    },
    {
      "cell_type": "code",
      "metadata": {
        "colab": {
          "base_uri": "https://localhost:8080/"
        },
        "id": "WDbYiXgBtQ4j",
        "outputId": "c56a0d2b-6277-4930-e4f7-432b2752cbe4"
      },
      "source": [
        "import numpy as np\n",
        "from numpy.linalg import eig\n",
        "\n",
        "A = np.array([[-1, 0.4], [-20, -16]]) # state matrix\n",
        "e, v = eig(A)\n",
        "print(\"eigenvalues of A:\", e)"
      ],
      "execution_count": null,
      "outputs": [
        {
          "output_type": "stream",
          "text": [
            "eigenvalues of A: [ -1.55377801 -15.44622199]\n"
          ],
          "name": "stdout"
        }
      ]
    },
    {
      "cell_type": "markdown",
      "metadata": {
        "id": "r0Ubzs_htXfw"
      },
      "source": [
        "The eigenvalues are $\\lambda_1 = -1.55$ and $\\lambda_1 = -15.44$, both real and negative. Let us test those and show that the system's state converges:"
      ]
    },
    {
      "cell_type": "code",
      "metadata": {
        "colab": {
          "base_uri": "https://localhost:8080/",
          "height": 279
        },
        "id": "o-al2c9ytdwB",
        "outputId": "b5ce00f2-2e68-4e90-a911-ea100e03851a"
      },
      "source": [
        "from scipy.integrate import odeint\n",
        "import matplotlib.pyplot as plt\n",
        "\n",
        "def LTI(x, t):\n",
        "    return A.dot(x)\n",
        "\n",
        "time = np.linspace(0, 10, 1000)    # interval from 0 to 10\n",
        "x0 = np.random.rand(2)            # initial state\n",
        "\n",
        "solution = odeint(LTI, x0, time)\n",
        "\n",
        "plt.plot(time, solution)\n",
        "plt.xlabel('time')\n",
        "plt.ylabel('x(t)')\n",
        "plt.show()"
      ],
      "execution_count": null,
      "outputs": [
        {
          "output_type": "display_data",
          "data": {
            "image/png": "[encoded data removed]",
            "text/plain": [
              "<Figure size 432x288 with 1 Axes>"
            ]
          },
          "metadata": {
            "tags": [],
            "needs_background": "light"
          }
        }
      ]
    },
    {
      "cell_type": "markdown",
      "metadata": {
        "id": "cF2aes2Wtngd"
      },
      "source": [
        "## Task 4.1. Find if the following autonomous linear systems are stable\n",
        "\n",
        "$$\\dot x = \n",
        "\\begin{pmatrix} 1 & 0 \\\\ -5 & -10\n",
        "\\end{pmatrix}\n",
        "x\n",
        "$$\n",
        "$$\\dot x = \n",
        "\\begin{pmatrix} 0 & 8 \\\\ 1 & 3\n",
        "\\end{pmatrix}\n",
        "x\n",
        "$$\n",
        "$$\\dot x = \n",
        "\\begin{pmatrix} 0 & 8 \\\\ 6 & 0\n",
        "\\end{pmatrix}\n",
        "x\n",
        "$$\n",
        "$$\\dot x = \n",
        "\\begin{pmatrix} 0 & 1 \\\\ 6 & 3\n",
        "\\end{pmatrix}\n",
        "x\n",
        "$$\n",
        "\n",
        "## Task 4.2 Simulate all of them, to show convergence.\n",
        "## Task 4.3 Add a constant term to the equation and show via simulation how the point where the system converges changes (two examples are sufficient)."
      ]
    }
  ]
}
