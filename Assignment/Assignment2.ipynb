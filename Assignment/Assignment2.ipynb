{
  "nbformat": 4,
  "nbformat_minor": 0,
  "metadata": {
    "colab": {
      "name": "Assignment2.ipynb",
      "provenance": [],
      "include_colab_link": true
    },
    "kernelspec": {
      "name": "python3",
      "display_name": "Python 3"
    },
    "language_info": {
      "name": "python"
    }
  },
  "cells": [
    {
      "cell_type": "markdown",
      "metadata": {
        "id": "view-in-github",
        "colab_type": "text"
      },
      "source": [
        "<a href=\"https://colab.research.google.com/github/SergeiSa/Control-Theory-Slides-Spring-2022/blob/main/Assignment/Assignment2.ipynb\" target=\"_parent\"><img src=\"https://colab.research.google.com/assets/colab-badge.svg\" alt=\"Open In Colab\"/></a>"
      ]
    },
    {
      "cell_type": "markdown",
      "source": [
        "# Task 1 (5 points)\n",
        "\n",
        "Given a system:\n",
        "\n",
        "<!-- A = \n",
        "    [0 0 1 0;\n",
        "     0 0 0 1;\n",
        "     n -2 -10/n -2;\n",
        "     -5 -n/10 0 -3]; -->\n",
        "\n",
        "$$ \n",
        "\\begin{cases}\n",
        "\\dot x = \n",
        "\\begin{bmatrix} \n",
        "0 & 0 & 1 & 0 \\\\\n",
        "0 & 0 & 0 & 1 \\\\\n",
        " n & -2 & -10/n & -2 \\\\\n",
        "-5 & -n/10 & 0 & -3\n",
        "\\end{bmatrix}\n",
        "x\n",
        "+ \n",
        "\\begin{bmatrix} \n",
        "0 \\\\\n",
        "0 \\\\\n",
        "-1\\\\\n",
        "1\n",
        "\\end{bmatrix}\n",
        "u \\\\\n",
        "y = \\begin{bmatrix} \n",
        "1 & 1 & 0 & 0\n",
        "\\end{bmatrix} x\n",
        "\\end{cases}\n",
        "$$\n",
        "\n",
        "where $n$ is your number in your group list (ask your TA to give you your number if you don't have one).\n",
        "\n",
        "\n",
        "\n",
        "1.   Find its transfer function representation ($y(s) / u(s) = W(s)$).\n",
        "1.   Propose an ODE representation of the system.\n",
        "1.   Propose a controller (control law $u = -Kx$) that makes the system stable. Do it via pole placement and as an LQR. For LQR show the cost function you chose.\n",
        "1.   Show stability of the closed-loop system via eigenvalue analysis.\n",
        "1.   Find stability margins by analysing Bode diagram for the system.\n",
        "1.   Simulate closed-loop system.\n",
        "1.   Modify the control law in such a way that the state of the system converges to $x_0 = \\begin{bmatrix} \n",
        "(2+0.1n)/(n-5) \\\\\n",
        "1 \\\\\n",
        "0 \\\\\n",
        "0 \n",
        "\\end{bmatrix}$. Show resulting control law. Simulate the system and demostrate convergence via graphs of state dynamics and error dynamics.\n",
        "1. Discretize the system with $\\Delta t = 0.01$. Write equations of the discrete dinamics.\n",
        "1. Propose a control law for the discrete system via pole-placement and LQR (show cost function for the LQR).\n",
        "1. Show eigenvalue analisys of the slosed-loop dynamics of the discrete system (with the proposed discrete control law. Demonstrate stability.\n",
        "1. Simulate the discrete system. Show graphs.\n",
        "1. Find Lyapunov function that proves the system's stability (one for continious time and one discrete time versions).\n",
        "\n",
        "\n",
        "\n",
        "\n"
      ],
      "metadata": {
        "id": "jkpb8xiEzdwR"
      }
    },
    {
      "cell_type": "markdown",
      "source": [
        "# Task 2 (4 points)\n",
        "\n",
        "You are given a system:\n",
        "\n",
        "$$ \n",
        "\\begin{cases}\n",
        "\\dot x = \n",
        "\\begin{bmatrix} \n",
        "1 & 5 & -2 \\\\\n",
        "2 & 1 & -3 \\\\\n",
        "-1 & -2 & 7\n",
        "\\end{bmatrix}\n",
        "x\n",
        "+ \n",
        "\\begin{bmatrix} \n",
        "2 \\\\\n",
        "1 \\\\\n",
        "0\n",
        "\\end{bmatrix}\n",
        "u \\\\\n",
        "u = -\\begin{bmatrix} \n",
        "7k & 6k & -50k\n",
        "\\end{bmatrix} x\n",
        "\\end{cases}\n",
        "$$\n",
        "\n",
        "1. How do the eigenvalues of the closed-loop system depend on k? Plot the evolution of the eigenvalues on a complex plane, as $k$ changes from 0 to 5. \n",
        "1. Chose a value of $k$ that allows the system to be stable. USe bode plot to find stability margins of teh closed-loop system.\n",
        "1. Discretize the closed-loop system with $\\Delta t = 0.05$ and simulate both the continues-time and discrete-time versions, show if there is a difference between simulation results.\n",
        "1. What is the smallest value of $k$ that makes the eigenvalues purely real?"
      ],
      "metadata": {
        "id": "cAA7ncyRiR_M"
      }
    },
    {
      "cell_type": "markdown",
      "source": [
        "# Task 3 (3 points)\n",
        "\n",
        "You are given a system:\n",
        "\n",
        "$$ \n",
        "\\begin{cases}\n",
        "\\dot x = \n",
        "\\begin{bmatrix} \n",
        "0 & 1 \\\\\n",
        "1 & 10\n",
        "\\end{bmatrix}\n",
        "x\n",
        "+ \n",
        "\\begin{bmatrix} \n",
        "0 \\\\\n",
        "1\n",
        "\\end{bmatrix}\n",
        "u \\\\\n",
        "u = \n",
        "-\\begin{bmatrix} \n",
        "5k & k\n",
        "\\end{bmatrix} x\n",
        "\\end{cases}\n",
        "$$\n",
        "\n",
        "You can chose any positive value of $k$ to design your controller. What is least-norm control gain (control gain is the matrix $\\begin{bmatrix} \n",
        "5k & k\n",
        "\\end{bmatrix}$) that makes the system not only be stable, but also exhibit no oscillations in the transient process?"
      ],
      "metadata": {
        "id": "zuVDblL-oMJN"
      }
    }
  ]
}