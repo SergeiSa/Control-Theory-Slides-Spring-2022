{
  "nbformat": 4,
  "nbformat_minor": 0,
  "metadata": {
    "colab": {
      "name": "Lab2_Control2021.ipynb",
      "provenance": [],
      "collapsed_sections": [],
      "toc_visible": true,
      "include_colab_link": true
    },
    "kernelspec": {
      "name": "python3",
      "display_name": "Python 3"
    }
  },
  "cells": [
    {
      "cell_type": "markdown",
      "metadata": {
        "id": "view-in-github",
        "colab_type": "text"
      },
      "source": [
        "<a href=\"https://colab.research.google.com/github/SergeiSa/Control-Theory-Slides-Spring-2021/blob/main/ColabNotebooks/Lab2_Control2021.ipynb\" target=\"_parent\"><img src=\"https://colab.research.google.com/assets/colab-badge.svg\" alt=\"Open In Colab\"/></a>"
      ]
    },
    {
      "cell_type": "markdown",
      "metadata": {
        "id": "mzhA_9XA829p"
      },
      "source": [
        "# Linear system with one control input\r\n",
        "\r\n",
        "## Step 1\r\n",
        "\r\n",
        "Consider the following to a second order ODE:\r\n",
        "\r\n",
        "$$\r\n",
        "\\dot x = \r\n",
        "\\begin{pmatrix} \r\n",
        "1 & 0 \\\\ -5 & -10\r\n",
        "\\end{pmatrix}\r\n",
        "x \r\n",
        "$$\r\n",
        "\r\n",
        "The eigenvalues are $\\lambda_1 = -10$ and $\\lambda_1 = 1$, so unstable. \r\n",
        "\r\n",
        "## Step 2\r\n",
        "\r\n",
        "Now let's consider the same system, but with control input:\r\n",
        "\r\n",
        "$$\r\n",
        "\\dot x = \r\n",
        "\\begin{pmatrix} \r\n",
        "1 & 0 \\\\ -5 & -10\r\n",
        "\\end{pmatrix}\r\n",
        "x \r\n",
        "+\r\n",
        "\\begin{pmatrix} \r\n",
        "1 \\\\ 0\r\n",
        "\\end{pmatrix}\r\n",
        "u\r\n",
        "$$\r\n",
        "\r\n",
        "Let us chose that $u = -2x_1$, in other words:\r\n",
        "\r\n",
        "$$\r\n",
        "u = \r\n",
        "\\begin{pmatrix} \r\n",
        "-2 & 0\r\n",
        "\\end{pmatrix}\r\n",
        "x\r\n",
        "$$\r\n",
        "\r\n",
        "Then we can re-write this as:\r\n",
        "\r\n",
        "$$\r\n",
        "\\dot x = \r\n",
        "\\begin{pmatrix} \r\n",
        "1 & 0 \\\\ -5 & -10\r\n",
        "\\end{pmatrix}\r\n",
        "x \r\n",
        "+\r\n",
        "\\begin{pmatrix} \r\n",
        "1 \\\\ 0\r\n",
        "\\end{pmatrix}\r\n",
        "\\begin{pmatrix} \r\n",
        "-2 & 0\r\n",
        "\\end{pmatrix}\r\n",
        "x\r\n",
        "$$\r\n",
        "\r\n",
        "$$\r\n",
        "\\dot x = \r\n",
        "\\begin{pmatrix} \r\n",
        "1 & 0 \\\\ -5 & -10\r\n",
        "\\end{pmatrix}\r\n",
        "x \r\n",
        "+\r\n",
        "\\begin{pmatrix} \r\n",
        "-2 & 0 \\\\ 0 & 0\r\n",
        "\\end{pmatrix}\r\n",
        "x\r\n",
        "$$\r\n",
        "\r\n",
        "\r\n",
        "$$\r\n",
        "\\dot x = \r\n",
        "\\begin{pmatrix} \r\n",
        "-1 & 0 \\\\ -5 & -10\r\n",
        "\\end{pmatrix}\r\n",
        "x\r\n",
        "$$\r\n",
        "\r\n",
        "Now the eigenvalues are $\\lambda_1 = -10$ and $\\lambda_1 = -1$, so stable. "
      ]
    },
    {
      "cell_type": "code",
      "metadata": {
        "colab": {
          "base_uri": "https://localhost:8080/"
        },
        "id": "7-t7hvdkIITD",
        "outputId": "952ba0ea-c636-4ed3-c958-27e442182fef"
      },
      "source": [
        "\r\n",
        "import numpy as np\r\n",
        "from numpy.linalg import eig\r\n",
        "\r\n",
        "A = np.array([[1, 0], [-5, -10]]) # state matrix\r\n",
        "e, v = eig(A)\r\n",
        "print(\"eigenvalues of A:\", e)\r\n",
        "\r\n",
        "A = np.array([[-1, 0], [-5, -10]]) # state matrix\r\n",
        "e, v = eig(A)\r\n",
        "print(\"eigenvalues of A:\", e)"
      ],
      "execution_count": null,
      "outputs": [
        {
          "output_type": "stream",
          "text": [
            "eigenvalues of A: [-10.   1.]\n",
            "eigenvalues of A: [-10.  -1.]\n"
          ],
          "name": "stdout"
        }
      ]
    },
    {
      "cell_type": "markdown",
      "metadata": {
        "id": "4f74Tlu0fX9D"
      },
      "source": [
        "# Pole placement\n",
        "\n",
        "There is a technique for finding suitable $K$ matrix that would produced desired eigenvalues of the $A - BK$ system. It is called pole placement.\n",
        "\n",
        "Watch the intoduction to pole placement for self-study: [link](https://www.youtube.com/watch?v=FXSpHy8LvmY&ab_channel=MATLAB). Notice the difference between the approach to \"steady state\" control design show there, and in the lecture."
      ]
    },
    {
      "cell_type": "code",
      "metadata": {
        "colab": {
          "base_uri": "https://localhost:8080/"
        },
        "id": "vWZckLaGcr4J",
        "outputId": "0fc811c1-6ad7-47d8-b545-7582f68c8cf8"
      },
      "source": [
        "import numpy as np\n",
        "from numpy.linalg import eig\n",
        "from scipy.integrate import odeint\n",
        "from scipy.signal import place_poles\n",
        "\n",
        "n = 2\n",
        "A = np.array([[1, 0], [-5, -10]])\n",
        "B = np.array([[1], [0]])\n",
        "\n",
        "# x_dot from state space\n",
        "def StateSpace(x, t):\n",
        "    return A.dot(x)# + B*np.sin(t)\n",
        "\n",
        "time = np.linspace(0, 1, 1000)   \n",
        "x0 = np.random.rand(n)  # initial state\n",
        "\n",
        "solution = {\"SS\": odeint(StateSpace, x0, time)}\n",
        "\n",
        "#desired eigenvalues\n",
        "poles = np.array([-1, -2])\n",
        "place_obj = place_poles(A, B, poles)\n",
        "\n",
        "#found control gains\n",
        "K = place_obj.gain_matrix;\n",
        "print(\"K:\", K)\n",
        "\n",
        "#test that eigenvalues of the closed loop system are what they are supposed to be \n",
        "e, v = eig((A - B.dot(K)))\n",
        "print(\"eigenvalues of A - B*K:\", e)"
      ],
      "execution_count": null,
      "outputs": [
        {
          "output_type": "stream",
          "text": [
            "K: [[ -6.  -14.4]]\n",
            "eigenvalues of A - B*K: [-1. -2.]\n"
          ],
          "name": "stdout"
        }
      ]
    },
    {
      "cell_type": "code",
      "metadata": {
        "colab": {
          "base_uri": "https://localhost:8080/"
        },
        "id": "lTsVhZKy1lOg",
        "outputId": "e1e48374-3ff1-413f-b77a-4d1168fb29b8"
      },
      "source": [
        "#desired eigenvalues\n",
        "poles = np.array([-100, -200])\n",
        "place_obj = place_poles(A, B, poles)\n",
        "\n",
        "#found control gains\n",
        "K = place_obj.gain_matrix;\n",
        "print(\"K:\", K)\n",
        "\n",
        "#test that eigenvalues of the closed loop system are what they are supposed to be \n",
        "e, v = eig((A - B.dot(K)))\n",
        "print(\"eigenvalues of A - B*K:\", e)\n",
        "\n",
        "#notice how different the gain matrix is!"
      ],
      "execution_count": null,
      "outputs": [
        {
          "output_type": "stream",
          "text": [
            "K: [[  291. -3420.]]\n",
            "eigenvalues of A - B*K: [-200. -100.]\n"
          ],
          "name": "stdout"
        }
      ]
    },
    {
      "cell_type": "markdown",
      "metadata": {
        "id": "MQ3fceFLKoH_"
      },
      "source": [
        "## Task 1.1 Make the following systems stable, proposing appropriate control\r\n",
        "\r\n",
        "\r\n",
        "$$\\dot x = \r\n",
        "\\begin{pmatrix} 10 & 0 \\\\ -5 & 10\r\n",
        "\\end{pmatrix}\r\n",
        "x\r\n",
        "+\r\n",
        "\\begin{pmatrix} \r\n",
        "2 \\\\ 0\r\n",
        "\\end{pmatrix}\r\n",
        "u\r\n",
        "$$\r\n",
        "\r\n",
        "\r\n",
        "$$\\dot x = \r\n",
        "\\begin{pmatrix} 0 & -8 \\\\ 1 & 30\r\n",
        "\\end{pmatrix}\r\n",
        "x\r\n",
        "+\r\n",
        "\\begin{pmatrix} \r\n",
        "-2 \\\\ 1\r\n",
        "\\end{pmatrix}\r\n",
        "u\r\n",
        "$$\r\n",
        "\r\n",
        "\r\n",
        "$$\\dot x = \r\n",
        "\\begin{pmatrix} 2 & 2 \\\\ -6 & 10\r\n",
        "\\end{pmatrix}\r\n",
        "x\r\n",
        "+\r\n",
        "\\begin{pmatrix} \r\n",
        "0 \\\\ 5\r\n",
        "\\end{pmatrix}\r\n",
        "u\r\n",
        "$$\r\n",
        "\r\n",
        "\r\n",
        "$$\\dot x = \r\n",
        "\\begin{pmatrix} 5 & -5 \\\\ 6 & 15\r\n",
        "\\end{pmatrix}\r\n",
        "x\r\n",
        "+\r\n",
        "\\begin{pmatrix} \r\n",
        "-10 \\\\ 10\r\n",
        "\\end{pmatrix}\r\n",
        "u\r\n",
        "$$"
      ]
    },
    {
      "cell_type": "markdown",
      "metadata": {
        "id": "yP7jmU2jLSio"
      },
      "source": [
        "## Task 1.2 Make the following systems stable, proposing appropriate control\r\n",
        "\r\n",
        "$$\\dot x = \r\n",
        "\\begin{pmatrix} 10 & 0 \\\\ -5 & 10\r\n",
        "\\end{pmatrix}\r\n",
        "x\r\n",
        "+\r\n",
        "\\begin{pmatrix} \r\n",
        "2 & 1 \\\\ 0 & -1\r\n",
        "\\end{pmatrix}\r\n",
        "u\r\n",
        "$$\r\n",
        "\r\n",
        "\r\n",
        "$$\\dot x = \r\n",
        "\\begin{pmatrix} 0 & -8 \\\\ 1 & 30\r\n",
        "\\end{pmatrix}\r\n",
        "x\r\n",
        "+\r\n",
        "\\begin{pmatrix} \r\n",
        "-2 & 1 \\\\ 1 & 1\r\n",
        "\\end{pmatrix}\r\n",
        "u\r\n",
        "$$\r\n",
        "\r\n",
        "\r\n",
        "$$\\dot x = \r\n",
        "\\begin{pmatrix} 2 & 2 \\\\ -6 & 10\r\n",
        "\\end{pmatrix}\r\n",
        "x\r\n",
        "+\r\n",
        "\\begin{pmatrix} \r\n",
        "0 & -1 \\\\ 5 & -1\r\n",
        "\\end{pmatrix}\r\n",
        "u\r\n",
        "$$\r\n",
        "\r\n",
        "\r\n",
        "$$\\dot x = \r\n",
        "\\begin{pmatrix} 5 & -5 \\\\ 6 & 15\r\n",
        "\\end{pmatrix}\r\n",
        "x\r\n",
        "+\r\n",
        "\\begin{pmatrix} \r\n",
        "-10 & 3 \\\\ 10 & 3\r\n",
        "\\end{pmatrix}\r\n",
        "u\r\n",
        "$$"
      ]
    },
    {
      "cell_type": "markdown",
      "metadata": {
        "id": "9ihEn7Alay0P"
      },
      "source": [
        "## Task 1.3 Give example of an unstable system that can't be stabilized...\n",
        "\n",
        "of the form $\\dot x = \n",
        "Ax+Bu$, where $A \\in \\mathbb{R}^{2 \\times 2}$\n",
        "\n",
        "* where $B \\in \\mathbb{R}^{2 \\times 1}$\n",
        "* where $B \\in \\mathbb{R}^{2 \\times 2}$\n",
        "* where $B \\in \\mathbb{R}^{2 \\times 3}$"
      ]
    },
    {
      "cell_type": "markdown",
      "metadata": {
        "id": "FBpDptTk2cmU"
      },
      "source": [
        "# Root locus\n",
        "\n",
        "Consider the following question: given system $\\dot x = Ax+Bu$ and control $u = \n",
        "-Kx$, how does the change in $K$ changes the eigenvalues of theresulting matrix $(A - BK)$?\n",
        "\n",
        "Root locus method is drawing the graph of eigenvalues of the matrix $(A - BK)$ for a given change of matrix $K$. We only vary a single component of $K$, so the result is a line."
      ]
    },
    {
      "cell_type": "code",
      "metadata": {
        "colab": {
          "base_uri": "https://localhost:8080/",
          "height": 279
        },
        "id": "peNMsGL-EASE",
        "outputId": "ee82ba3c-a22d-4bca-879e-00333b55ecda"
      },
      "source": [
        "import matplotlib.pyplot as plt\n",
        "\n",
        "A = np.array([[1, -7], [2, -10]])\n",
        "B = np.array([[1], [0]])\n",
        "K0 = np.array([[1, 1]]);\n",
        "\n",
        "k_min = 1;\n",
        "k_max = 10;\n",
        "k_step = 0.1;\n",
        "\n",
        "Count = np.floor((k_max-k_min)/k_step)\n",
        "Count = Count.astype(int)\n",
        "\n",
        "k_range = np.linspace(k_min, k_max, Count)\n",
        "\n",
        "E = np.zeros((Count, 4))\n",
        "\n",
        "for i in range(Count):\n",
        "    K0[0, 0] = k_range[i]\n",
        "\n",
        "    ei, v = eig((A - B.dot(K0)))\n",
        "\n",
        "    E[i, 0] = np.real(ei[0])\n",
        "    E[i, 1] = np.imag(ei[0])\n",
        "    E[i, 2] = np.real(ei[1])\n",
        "    E[i, 3] = np.imag(ei[1])\n",
        "\n",
        "    #print(\"eigenvalues of A - B*K:\", ei)\n",
        "\n",
        "\n",
        "plt.plot(E[:, 0], E[:, 1])\n",
        "plt.plot(E[:, 2], E[:, 3])\n",
        "plt.xlabel('real')\n",
        "plt.ylabel('imag')\n",
        "plt.show()\n"
      ],
      "execution_count": null,
      "outputs": [
        {
          "output_type": "display_data",
          "data": {
            "image/png": "[encoded data removed]",
            "text/plain": [
              "<Figure size 432x288 with 1 Axes>"
            ]
          },
          "metadata": {
            "tags": [],
            "needs_background": "light"
          }
        }
      ]
    },
    {
      "cell_type": "markdown",
      "metadata": {
        "id": "5xHhRpaCI6Lo"
      },
      "source": [
        "## Task 2.1 Plot root locus\n",
        "\n",
        "* For a system with $A$ with imaginary eigenvalues\n",
        "* For a system with $A$ with real eigenvalues\n",
        "* For a system where real parts of eigenvalues of $(A - BK)$ are all positive\n",
        "* For a system where real parts of eigenvalues of $(A - BK)$ are all negative"
      ]
    },
    {
      "cell_type": "markdown",
      "metadata": {
        "id": "jhEnCmOtK91k"
      },
      "source": [
        "# Reaction to inputs"
      ]
    },
    {
      "cell_type": "markdown",
      "metadata": {
        "id": "psIIY0rZL3uU"
      },
      "source": [
        "## Task 3 Step functions\r\n",
        "\r\n",
        "### Task 3.1 Simulate one of the given systems with a step function as an imput.\r\n",
        "\r\n",
        "### Task 3.2 Linear combination of solutions\r\n",
        "\r\n",
        "Simulate one of the given systems with two different step functions $f_1$,  $f_2$ as an imput, and as a sum of those $f_1+f_2$ as an imput. Compare the sum of the solutions for the $f_1$,  $f_2$ with the solution for $f_1+f_2$.\r\n",
        "\r\n",
        "$$ f_1 = \r\n",
        "\\begin{cases} \r\n",
        "1, \\ \\ \\ t \\geq t_1 \\\\\r\n",
        "0, \\ \\ \\ t < t_1\r\n",
        "\\end{cases} \r\n",
        "$$\r\n",
        "$$ f_2 = \r\n",
        "\\begin{cases} \r\n",
        "1, \\ \\ \\ t \\geq t_2 \\\\\r\n",
        "0, \\ \\ \\ t < t_2\r\n",
        "\\end{cases} \r\n",
        "$$"
      ]
    },
    {
      "cell_type": "markdown",
      "metadata": {
        "id": "wgKqFhcZLB4E"
      },
      "source": [
        "## Task 4 Sinusoidal inputs\n",
        "\n",
        "Simulate one of the prevuiously given function for a sinusoidal input $u = sin(wt)$.\n",
        "\n",
        "How does the choice of $w$ affects the result?\n",
        "\n",
        "(not graded):\n",
        "Watch [video](https://youtu.be/bU7y051Ejgw) on \"frequency responce\" and find how you could use the proposed method to analyse the effect of $w$ in your problem.\n",
        "\n",
        "Now, let us see how to plot ferquency responce in a plot, via scipy library:"
      ]
    },
    {
      "cell_type": "code",
      "metadata": {
        "colab": {
          "base_uri": "https://localhost:8080/",
          "height": 347
        },
        "id": "n-yE_Hh6U0nC",
        "outputId": "c9e416cb-9258-4ca5-d545-054806eed426"
      },
      "source": [
        "from scipy.signal import ss2tf\n",
        "from scipy.signal import freqz\n",
        "\n",
        "\n",
        "A = np.array([[1, -7], [2, -10]])\n",
        "B = np.array([[1], [0]])\n",
        "C = np.eye(2)\n",
        "D = np.zeros((2, 1))\n",
        "\n",
        "num, den = ss2tf(A, B, C, D)\n",
        "\n",
        "print(\"num:\", num)\n",
        "print(\"den:\", den)\n",
        "\n",
        "w1, h1 = freqz(num[0, :], den)\n",
        "w2, h2 = freqz(num[1, :], den)\n",
        "\n",
        "plt.subplot(211)\n",
        "plt.plot(w1, 20 * np.log10(abs(h1)), 'b')\n",
        "plt.ylabel('Amplitude [dB]', color='b')\n",
        "plt.xlabel('Frequency [rad/sample]')\n",
        "\n",
        "plt.subplot(212)\n",
        "plt.plot(w2, 20 * np.log10(abs(h2)), 'b')\n",
        "plt.ylabel('Amplitude [dB]', color='b')\n",
        "plt.xlabel('Frequency [rad/sample]')"
      ],
      "execution_count": null,
      "outputs": [
        {
          "output_type": "stream",
          "text": [
            "num: [[ 0.  1. 10.]\n",
            " [ 0.  0.  2.]]\n",
            "den: [1. 9. 4.]\n"
          ],
          "name": "stdout"
        },
        {
          "output_type": "execute_result",
          "data": {
            "text/plain": [
              "Text(0.5, 0, 'Frequency [rad/sample]')"
            ]
          },
          "metadata": {
            "tags": []
          },
          "execution_count": 6
        },
        {
          "output_type": "display_data",
          "data": {
            "image/png": "[encoded data removed]",
            "text/plain": [
              "<Figure size 432x288 with 2 Axes>"
            ]
          },
          "metadata": {
            "tags": [],
            "needs_background": "light"
          }
        }
      ]
    },
    {
      "cell_type": "markdown",
      "metadata": {
        "id": "We-TmMuugsEH"
      },
      "source": [
        "## Task 4.1 Make frequency diagrams for 2 of the systems you studied in the tasks 1.1 and 1.2"
      ]
    },
    {
      "cell_type": "markdown",
      "metadata": {
        "id": "rxDQuVGwhqye"
      },
      "source": [
        "# 5. Point-to-point control\n",
        "\n",
        "Given system:\n",
        "\n",
        "$$\\dot x = \n",
        "\\begin{pmatrix} 10 & 5 \\\\ -5 & -10\n",
        "\\end{pmatrix}\n",
        "x\n",
        "+\n",
        "\\begin{pmatrix} \n",
        "-1 \\\\ 2\n",
        "\\end{pmatrix}\n",
        "u\n",
        "$$\n",
        "\n",
        "let us drive it towards the point $x^* = \\begin{pmatrix} 0 \\\\ 1 \\end{pmatrix}$\n",
        "\n",
        "We define our control as:\n",
        "\n",
        "$$u = \n",
        "-K (x - x^*) + u^*\n",
        "$$\n",
        "\n",
        "## Step 1 - Feed-forward design\n",
        "\n",
        "We know that $\\dot x^* = 0$ and that at the node our dynamics obtains the form:\n",
        "\n",
        "$$0 = \n",
        "\\begin{pmatrix} 10 & 5 \\\\ -5 & -10\n",
        "\\end{pmatrix}\n",
        "\\begin{pmatrix} 0 \\\\ 1 \\end{pmatrix}\n",
        "+\n",
        "\\begin{pmatrix} \n",
        "-1 \\\\ 2\n",
        "\\end{pmatrix}\n",
        "u^*\n",
        "$$\n",
        "\n",
        "In other words, $u^* = 5$.\n",
        "\n",
        "## Step 2\n",
        "\n",
        "We define control error as $e = x - x^*$. \n",
        "\n",
        "\n",
        "Now we write error dynamics:\n",
        "\n",
        "$$\\dot x - \\dot x^* = \n",
        "\\begin{pmatrix} 10 & 5 \\\\ -5 & -10\n",
        "\\end{pmatrix}\n",
        "x\n",
        " - \n",
        "\\begin{pmatrix} 10 & 5 \\\\ -5 & -10\n",
        "\\end{pmatrix}\n",
        "x^*\n",
        "+\n",
        "\\begin{pmatrix} \n",
        "-1 \\\\ 2\n",
        "\\end{pmatrix}\n",
        "(-K (x - x^*) + u^*)\n",
        "-\n",
        "\\begin{pmatrix} \n",
        "-1 \\\\ 2\n",
        "\\end{pmatrix}\n",
        "u^*\n",
        "$$\n",
        "\n",
        "\n",
        "$$\\dot e = \n",
        "\\begin{pmatrix} 10 & 5 \\\\ -5 & -10\n",
        "\\end{pmatrix}\n",
        "e\n",
        "-\n",
        "\\begin{pmatrix} \n",
        "-1 \\\\ 2\n",
        "\\end{pmatrix}\n",
        "K e\n",
        "$$\n"
      ]
    },
    {
      "cell_type": "markdown",
      "metadata": {
        "id": "WnX1IUyNnz4X"
      },
      "source": [
        "## Step 3 - feedback design"
      ]
    },
    {
      "cell_type": "code",
      "metadata": {
        "colab": {
          "base_uri": "https://localhost:8080/"
        },
        "id": "Atzlfykgl3QM",
        "outputId": "678d2995-11cd-4628-bc94-7b4a7ee339f1"
      },
      "source": [
        "\n",
        "A = np.array([[10, 5], [-5, -10]])\n",
        "B = np.array([[-1], [2]])\n",
        "\n",
        "#desired eigenvalues\n",
        "poles = np.array([-1, -2])\n",
        "place_obj = place_poles(A, B, poles)\n",
        "\n",
        "#found control gains\n",
        "K = place_obj.gain_matrix;\n",
        "print(\"K:\", K)\n",
        "\n",
        "#test that eigenvalues of the closed loop system are what they are supposed to be \n",
        "e, v = eig((A - B.dot(K)))\n",
        "print(\"eigenvalues of A - B*K:\", e)"
      ],
      "execution_count": null,
      "outputs": [
        {
          "output_type": "stream",
          "text": [
            "K: [[-13.26666667  -5.13333333]]\n",
            "eigenvalues of A - B*K: [-2. -1.]\n"
          ],
          "name": "stdout"
        }
      ]
    },
    {
      "cell_type": "markdown",
      "metadata": {
        "id": "HnGkcqVEp_Cm"
      },
      "source": [
        "## Simulate forward wirth the found control"
      ]
    },
    {
      "cell_type": "code",
      "metadata": {
        "colab": {
          "base_uri": "https://localhost:8080/",
          "height": 566
        },
        "id": "sptEI6dSojAb",
        "outputId": "21b2bc29-c36b-464f-9513-df6d3c4cf29d"
      },
      "source": [
        "\n",
        "x_desired = np.array([0, 1])\n",
        "u_desired = np.array([5])\n",
        "\n",
        "\n",
        "def StateSpace(x, t):\n",
        "    u = -K.dot(x - x_desired) + u_desired\n",
        "    return A.dot(x) + B.dot(u)\n",
        "\n",
        "time = np.linspace(0, 30, 30000)   \n",
        "x0 = np.random.rand(n)  # initial state\n",
        "\n",
        "solution = {\"solution_1\": odeint(StateSpace, x0, time)}    \n",
        "\n",
        "\n",
        "plt.rcParams['figure.figsize'] = [20, 20]\n",
        "\n",
        "# plt.rcParams[\"font.family\"] = \"Old Times American\"\n",
        "plt.rcParams[\"font.size\"] = 16\n",
        "plt.rcParams[\"font.weight\"] = 'normal'\n",
        "\n",
        "\n",
        "# plt.subplot(221)\n",
        "plt.plot(time, solution[\"solution_1\"], linewidth=2)\n",
        "plt.xlabel('time')\n",
        "plt.ylabel('x(t)')\n",
        "plt.grid(color='k', linestyle='--', linewidth=0.7, alpha=0.3)\n",
        "# plt.title('autonomous')"
      ],
      "execution_count": null,
      "outputs": [
        {
          "output_type": "display_data",
          "data": {
            "image/png": "[encoded data removed]",
            "text/plain": [
              "<Figure size 1440x1440 with 1 Axes>"
            ]
          },
          "metadata": {
            "tags": [],
            "needs_background": "light"
          }
        }
      ]
    },
    {
      "cell_type": "markdown",
      "metadata": {
        "id": "oV0YON4woFXh"
      },
      "source": [
        "## Task 5.1 Design point-to-point control and simulate two systems:\n",
        "\n",
        "* where $B \\in \\mathbb{R}^{2 \\times 1}$\n",
        "* where $B \\in \\mathbb{R}^{2 \\times 2}$"
      ]
    },
    {
      "cell_type": "markdown",
      "metadata": {
        "id": "4RW7jjzahiCg"
      },
      "source": [
        "# 6. Discrete systems\n",
        "\n",
        "Let's consider discrete system: $x_{i+1} = Ax_i + Bu_i$\n",
        "\n",
        "## Task 6.1\n",
        "\n",
        "Find which of the followig systems is stable:\n",
        "\n",
        "$$x_{i+1} = \n",
        "\\begin{pmatrix} 0.5 & 0.1 \\\\ -0.05 & 0.2\n",
        "\\end{pmatrix}\n",
        "x_i\n",
        "$$\n",
        "\n",
        "\n",
        "$$x_{i+1} = \n",
        "\\begin{pmatrix} 1 & -2 \\\\ 0 & 0.3\n",
        "\\end{pmatrix}\n",
        "x_i\n",
        "$$\n",
        "\n",
        "\n",
        "$$x_{i+1} = \n",
        "\\begin{pmatrix} -5 & 0 \\\\ -0.1 & 1\n",
        "\\end{pmatrix}\n",
        "x_i\n",
        "+\n",
        "\\begin{pmatrix} \n",
        "0 \\\\ 0.5\n",
        "\\end{pmatrix}\n",
        "u_i, \\ \\ \\ \n",
        "u_i = \n",
        "\\begin{pmatrix} \n",
        "0 & 0.2\n",
        "\\end{pmatrix}\n",
        "x_i\n",
        "$$\n",
        "\n",
        "\n",
        "$$x_{i+1} = \n",
        "\\begin{pmatrix} -2.2 & -3 \\\\ 0 & 0.5\n",
        "\\end{pmatrix}\n",
        "x_i\n",
        "+\n",
        "\\begin{pmatrix} \n",
        "-1 \\\\ 1\n",
        "\\end{pmatrix}\n",
        "u_i, \\ \\ \\ \n",
        "u_i = 10\n",
        "$$\n",
        "\n",
        "\n",
        "## Task 6.2\n",
        "\n",
        "Propose control that makes the following systems stable:\n",
        "\n",
        "$$x_{i+1} = \n",
        "\\begin{pmatrix} 1 & 1 \\\\ -0.4 & 0.1\n",
        "\\end{pmatrix}\n",
        "x_i\n",
        "+\n",
        "\\begin{pmatrix} \n",
        "0.5 \\\\ 0.5\n",
        "\\end{pmatrix}\n",
        "u_i\n",
        "$$\n",
        "\n",
        "\n",
        "$$x_{i+1} = \n",
        "\\begin{pmatrix} 0.8 & -0.3 \\\\ 0 & 0.15\n",
        "\\end{pmatrix}\n",
        "x_i\n",
        "+\n",
        "\\begin{pmatrix} \n",
        "-1 \\\\ 1\n",
        "\\end{pmatrix}\n",
        "u_i\n",
        "$$"
      ]
    },
    {
      "cell_type": "markdown",
      "metadata": {
        "id": "Ew83wuWWsa-F"
      },
      "source": [
        "## Simulation of descrete systems\n",
        "\n",
        "Consider the system: $x_{i+1} = Ax_i$. Let us pick values for the matrix $A$ and simulate it forward."
      ]
    },
    {
      "cell_type": "code",
      "metadata": {
        "colab": {
          "base_uri": "https://localhost:8080/",
          "height": 583
        },
        "id": "i-1PBFpKsgG9",
        "outputId": "f5ccc3a5-05de-4863-aba0-7882faac8c8b"
      },
      "source": [
        "A = np.array([[0.9, 0.5], [-0.2, -0.8]])\n",
        "\n",
        "e, v = eig((A))\n",
        "print(\"eigenvalues of A:\", e)\n",
        "\n",
        "Count = 100\n",
        "time = np.zeros((Count))\n",
        "dt = 0.01\n",
        "\n",
        "x0 = np.random.rand(n)  # initial state\n",
        "solution = np.zeros((Count, 2))\n",
        "solution[0, :] = x0\n",
        "\n",
        "for i in range(0, Count-1):\n",
        "    x = solution[i, :]\n",
        "    x = A.dot(x)\n",
        "    solution[i+1, :] = np.reshape(x, (1, 2))\n",
        "    time[i] = dt*i\n",
        "\n",
        "plt.subplot(221)\n",
        "plt.plot(range(0, Count), solution, linewidth=2)\n",
        "plt.xlabel('time')\n",
        "plt.ylabel('x(t)')\n",
        "plt.grid(color='k', linestyle='--', linewidth=0.7, alpha=0.3)"
      ],
      "execution_count": null,
      "outputs": [
        {
          "output_type": "stream",
          "text": [
            "eigenvalues of A: [ 0.83898669 -0.73898669]\n"
          ],
          "name": "stdout"
        },
        {
          "output_type": "display_data",
          "data": {
            "image/png": "[encoded data removed]",
            "text/plain": [
              "<Figure size 1440x1440 with 1 Axes>"
            ]
          },
          "metadata": {
            "tags": [],
            "needs_background": "light"
          }
        }
      ]
    },
    {
      "cell_type": "markdown",
      "metadata": {
        "id": "xRjR2hWCuT5v"
      },
      "source": [
        "## Task 6.3 Design point-to-point control and simulate two discrete systems:\n",
        "\n",
        "* where $B \\in \\mathbb{R}^{2 \\times 1}$\n",
        "* where $B \\in \\mathbb{R}^{2 \\times 2}$"
      ]
    },
    {
      "cell_type": "markdown",
      "metadata": {
        "id": "4TvnRiFnvG-6"
      },
      "source": [
        "# 7 Lyapunov equations\n",
        "\n",
        "Solve Lyapunov equations for both discrete and continious systems to prove stability"
      ]
    },
    {
      "cell_type": "code",
      "metadata": {
        "colab": {
          "base_uri": "https://localhost:8080/"
        },
        "id": "dxPHW3K9vLEx",
        "outputId": "852ac02c-960c-4922-dc9f-fe7c1a4033af"
      },
      "source": [
        "from scipy.linalg import solve_continuous_lyapunov\n",
        "from scipy.linalg import solve_discrete_lyapunov\n",
        "\n",
        "\n",
        "Q = np.array([[-1, 0], [0, -1]])\n",
        "\n",
        "A = np.array([[-10, 5], [-5, -10]])\n",
        "e, v = eig(A)\n",
        "print(\"eig(A)\", e)\n",
        "\n",
        "P = solve_continuous_lyapunov(A, Q)\n",
        "print(\"P\", P)\n",
        "e, v = eig((A.transpose().dot(P) + P.dot(A)))\n",
        "print(\"eig(A'P + P*A)\", e)\n",
        "print(\" \")\n",
        "print(\" \")\n",
        "\n",
        "\n",
        "A = np.array([[0.9, 0.5], [-0.2, -0.8]])\n",
        "e, v = eig(A)\n",
        "print(\"eig(A)\", e)\n",
        "\n",
        "P = solve_discrete_lyapunov(A, Q)\n",
        "print(\"P\", P)\n",
        "print(\"(A'PA - P + Q ):\")\n",
        "print(((A.dot(P)).dot(A.transpose()) - P + Q))\n",
        "\n",
        "\n"
      ],
      "execution_count": null,
      "outputs": [
        {
          "output_type": "stream",
          "text": [
            "eig(A) [-10.+5.j -10.-5.j]\n",
            "P [[ 5.00000000e-02  7.34706413e-20]\n",
            " [-1.24900090e-18  5.00000000e-02]]\n",
            "eig(A'P + P*A) [-1. -1.]\n",
            " \n",
            " \n",
            "eig(A) [ 0.83898669 -0.73898669]\n",
            "P [[-4.03347296  0.9268445 ]\n",
            " [ 0.9268445  -2.40207966]]\n",
            "(A'PA - P + Q ):\n",
            "[[0.00000000e+00 3.33066907e-16]\n",
            " [1.11022302e-16 4.44089210e-16]]\n"
          ],
          "name": "stdout"
        }
      ]
    },
    {
      "cell_type": "markdown",
      "metadata": {
        "id": "VfKv5ZZDxAnn"
      },
      "source": [
        "## Task 7.1 \n",
        "\n",
        "Choose one of the continious and one of the discrete systems for which you designed control, and prove stability of the closed-loop version $(A - BK)$"
      ]
    }
  ]
}